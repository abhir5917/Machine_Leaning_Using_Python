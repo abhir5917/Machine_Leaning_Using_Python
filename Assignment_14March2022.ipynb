{
 "cells": [
  {
   "cell_type": "code",
   "execution_count": 2,
   "metadata": {},
   "outputs": [
    {
     "name": "stdout",
     "output_type": "stream",
     "text": [
      "[50, 60, 70, 80]\n"
     ]
    }
   ],
   "source": [
    "## Creating list of length 10 and acess 5th to 8th element\n",
    "ls = [10,20,30,40,50,60,70,80,90,100]\n",
    "print(ls[4:8])"
   ]
  },
  {
   "cell_type": "code",
   "execution_count": 5,
   "metadata": {},
   "outputs": [
    {
     "name": "stdout",
     "output_type": "stream",
     "text": [
      "[10, 20, [30, 40, [50, 60, 70], 80], 90, 100]\n"
     ]
    }
   ],
   "source": [
    "#Add item 70 after 60 in the following Python List\n",
    "#input\n",
    "l1 = [10, 20, [30, 40, [50, 60], 80], 90, 100]\n",
    "#output will be[10, 20, [30, 40, [50, 60, 70], 80], 90, 100]\n",
    "l1[2][2].insert(2,70)\n",
    "print(l1)"
   ]
  },
  {
   "cell_type": "code",
   "execution_count": 7,
   "metadata": {},
   "outputs": [
    {
     "name": "stdout",
     "output_type": "stream",
     "text": [
      "[1, 2, [3, 4, 5, 6, [7, 8]], 9]\n"
     ]
    }
   ],
   "source": [
    "#add sublist [7,8] after 6\n",
    "#input l2 = [1,2,[3,4,5,6],9]\n",
    "#output [1,2,[3,4,5,6,[7,8]],9]\n",
    "l2 = [1,2,[3,4,5,6],9]\n",
    "subls = [7,8]\n",
    "l2[2].append(subls)\n",
    "print(l2)"
   ]
  },
  {
   "cell_type": "code",
   "execution_count": 30,
   "metadata": {},
   "outputs": [
    {
     "name": "stdout",
     "output_type": "stream",
     "text": [
      "1) access \"Mike\"\n",
      "Mike\n",
      "2) access 80\n",
      "80\n",
      "3) change \"Mike\" to \"Your name\"\n",
      "{'april_batch': {'student': {'name': 'Abhijeet', 'marks': {'python': 80, 'maths': 70}}}}\n",
      "4) add ML = 80 and DL = 80 inside marks\n",
      "{'april_batch': {'student': {'name': 'Abhijeet', 'marks': {'python': 80, 'maths': 70, 'ML': 80, 'DL': 80}}}}\n"
     ]
    }
   ],
   "source": [
    "dict1 = { \n",
    "   \"april_batch\":{ \n",
    "      \"student\":{ \n",
    "         \"name\":\"Mike\",\n",
    "         \"marks\":{ \n",
    "            \"python\":80,\n",
    "            \"maths\":70\n",
    "         }\n",
    "      }\n",
    "   }\n",
    "}\n",
    "# From the above dictionary, do the following tasks\n",
    "\n",
    "print('1)', 'access \"Mike\"')\n",
    "print(dict1[\"april_batch\"][\"student\"][\"name\"])\n",
    "\n",
    "print('2) access 80')\n",
    "print(dict1[\"april_batch\"][\"student\"][\"marks\"][\"python\"])\n",
    "\n",
    "print('3) change \"Mike\" to \"Your name\"')\n",
    "dict1[\"april_batch\"][\"student\"][\"name\"] = \"Abhijeet\"\n",
    "print(dict1)\n",
    "print('4) add ML = 80 and DL = 80 inside marks')\n",
    "dict1[\"april_batch\"][\"student\"][\"marks\"][\"ML\"] = 80\n",
    "dict1[\"april_batch\"][\"student\"][\"marks\"][\"DL\"] = 80\n",
    "print(dict1)"
   ]
  },
  {
   "cell_type": "code",
   "execution_count": 31,
   "metadata": {},
   "outputs": [
    {
     "data": {
      "text/plain": [
       "[10, 20, 30, 40, 50, 60, 70, 80, 90, 100]"
      ]
     },
     "execution_count": 31,
     "metadata": {},
     "output_type": "execute_result"
    }
   ],
   "source": [
    "ls"
   ]
  },
  {
   "cell_type": "code",
   "execution_count": 33,
   "metadata": {},
   "outputs": [
    {
     "name": "stdout",
     "output_type": "stream",
     "text": [
      "original tuple (1, 2, 3, 4, 5)\n"
     ]
    }
   ],
   "source": [
    "### Task6 - Add and remove the elements from a tuple. (Refer workaroud to modify the tuples)\n",
    "tup1 = (1,2,3,4,5)\n",
    "print(\"original tuple\", tup1)"
   ]
  },
  {
   "cell_type": "code",
   "execution_count": 44,
   "metadata": {},
   "outputs": [
    {
     "name": "stdout",
     "output_type": "stream",
     "text": [
      "Adding an element to tuple by workaround\n",
      "Converting to list and then adding an element\n",
      "New tuple after adding element (1, 2, 3, 4, 5, 'newData')\n",
      "Remoing Data by converting tuple to list and removing\n",
      "New tuple after removing element at 2 element (1, 3, 4, 5, 'newData')\n"
     ]
    }
   ],
   "source": [
    "print(\"Adding an element to tuple by workaround\")\n",
    "print(\"Converting to list and then adding an element\")\n",
    "ls_tup = list(tup1)\n",
    "ls_tup.append('newData')\n",
    "tup1 = tuple(ls_tup)\n",
    "print('New tuple after adding element', tup1)\n",
    "print(\"Remoing Data by converting tuple to list and removing\")\n",
    "ls_tup = list(tup1)\n",
    "ls_tup.remove(2)\n",
    "tup1 = tuple(ls_tup)\n",
    "print('New tuple after removing element at 2 element', tup1)"
   ]
  },
  {
   "cell_type": "code",
   "execution_count": 51,
   "metadata": {},
   "outputs": [
    {
     "name": "stdout",
     "output_type": "stream",
     "text": [
      "Enter number 1: 50\n",
      "Enter number 2: 5\n",
      "num1=  50 num2=  5\n",
      "Press 1 for addition, 2 for Subtraction, 3 for Multiplication and 4 for Division: 3\n",
      "Multiplication=  250\n"
     ]
    }
   ],
   "source": [
    "num1 = int(input(\"Enter number 1: \"))\n",
    "num2 = int(input(\"Enter number 2: \"))\n",
    "print(\"num1= \",num1, \"num2= \",num2)\n",
    "choice = int(input(\"Press 1 for addition, 2 for Subtraction, 3 for Multiplication and 4 for Division: \"))\n",
    "if(choice == 1):\n",
    "    print(\"Addition= \",num1 + num2)\n",
    "elif(choice == 2):\n",
    "    print(\"Subtraction= \",num1 - num2)\n",
    "elif(choice == 3):\n",
    "    print(\"Multiplication= \",num1 * num2)\n",
    "else:\n",
    "    print(\"Division= \",num1 / num2)\n"
   ]
  },
  {
   "cell_type": "code",
   "execution_count": 52,
   "metadata": {},
   "outputs": [
    {
     "name": "stdout",
     "output_type": "stream",
     "text": [
      "Enter number 1: 2\n",
      "Enter number 2: 50\n",
      "num1=  2 num2=  50\n",
      "Press 1 for addition, 2 for Subtraction, 3 for Multiplication and 4 for Division: 1\n",
      "Addition=  52\n"
     ]
    }
   ],
   "source": [
    "num1 = int(input(\"Enter number 1: \"))\n",
    "num2 = int(input(\"Enter number 2: \"))\n",
    "print(\"num1= \",num1, \"num2= \",num2)\n",
    "choice = int(input(\"Press 1 for addition, 2 for Subtraction, 3 for Multiplication and 4 for Division: \"))\n",
    "if(choice == 1):\n",
    "    print(\"Addition= \",num1 + num2)\n",
    "elif(choice == 2):\n",
    "    print(\"Subtraction= \",num1 - num2)\n",
    "elif(choice == 3):\n",
    "    print(\"Multiplication= \",num1 * num2)\n",
    "else:\n",
    "    print(\"Division= \",num1 / num2)\n"
   ]
  },
  {
   "cell_type": "code",
   "execution_count": 53,
   "metadata": {},
   "outputs": [
    {
     "name": "stdout",
     "output_type": "stream",
     "text": [
      "10\n",
      "9\n",
      "8\n",
      "7\n",
      "6\n",
      "5\n",
      "4\n",
      "3\n",
      "2\n",
      "1\n"
     ]
    }
   ],
   "source": [
    "i = 10\n",
    "while i>0:\n",
    "    print(i)\n",
    "    i -= 1"
   ]
  },
  {
   "cell_type": "code",
   "execution_count": 54,
   "metadata": {},
   "outputs": [
    {
     "name": "stdout",
     "output_type": "stream",
     "text": [
      "traversing list and printing square of each number:  [1, 2, 3, 4, 5]\n",
      "1\n",
      "4\n",
      "9\n",
      "16\n",
      "25\n"
     ]
    }
   ],
   "source": [
    "ls = [1,2,3,4,5]\n",
    "print(\"traversing list and printing square of each number: \",ls)\n",
    "for i in ls:\n",
    "    print(i*i)"
   ]
  },
  {
   "cell_type": "code",
   "execution_count": 55,
   "metadata": {},
   "outputs": [
    {
     "name": "stdout",
     "output_type": "stream",
     "text": [
      "traversing tuple and printing multiplication table of 3:  (1, 2, 3, 4, 5)\n",
      "3\n",
      "6\n",
      "9\n",
      "12\n",
      "15\n"
     ]
    }
   ],
   "source": [
    "ls = (1,2,3,4,5)\n",
    "print(\"traversing tuple and printing multiplication table of 3: \",ls)\n",
    "for i in ls:\n",
    "    print(3*i)"
   ]
  },
  {
   "cell_type": "code",
   "execution_count": 65,
   "metadata": {},
   "outputs": [
    {
     "name": "stdout",
     "output_type": "stream",
     "text": [
      "keys\n",
      "id\n",
      "name\n",
      "salary\n",
      "\n",
      "\n",
      "values\n",
      "a\n",
      "ABC\n",
      "10000\n"
     ]
    }
   ],
   "source": [
    "dict11 = {\"id\":\"a\", \"name\":\"ABC\", \"salary\":10000}\n",
    "print(\"keys\")\n",
    "for i in dict11:\n",
    "    print(i)\n",
    "#     print(dict11[i])\n",
    "print(\"\\n\\nvalues\")\n",
    "for i in dict11:\n",
    "    print(dict11[i])"
   ]
  },
  {
   "cell_type": "code",
   "execution_count": 67,
   "metadata": {},
   "outputs": [
    {
     "name": "stdout",
     "output_type": "stream",
     "text": [
      "Enter number 1: 20\n",
      "Enter number 2: 5\n",
      "num1=  20 num2=  5\n",
      "Press 1 for addition, 2 for Subtraction, 3 for Multiplication and 4 for Division: 4\n",
      "Division=  4.0\n"
     ]
    }
   ],
   "source": [
    "# Ask 2 numbers from users and store it in num1 and num2\n",
    "# Ask user to press 1 for addition,2 for subtraction,3 for multiplication and 4 for division\n",
    "# create 4 seperate functions for each operation (i.e. addition,subtraction,multiplication and division)\n",
    "# based on number given by user,call that perticular function and print the output\n",
    "\n",
    "def adds(num1, num2):\n",
    "    print(\"Addition= \",num1 + num2)\n",
    "def subs(num1, num2):\n",
    "    print(\"Subtraction= \",num1 - num2)\n",
    "def mults(num1, num2):\n",
    "    print(\"Multiplication= \",num1 * num2)\n",
    "def divs(num1, num2):\n",
    "    print(\"Division= \",num1 / num2)\n",
    "\n",
    "\n",
    "num1 = int(input(\"Enter number 1: \"))\n",
    "num2 = int(input(\"Enter number 2: \"))\n",
    "print(\"num1= \",num1, \"num2= \",num2)\n",
    "choice = int(input(\"Press 1 for addition, 2 for Subtraction, 3 for Multiplication and 4 for Division: \"))\n",
    "if(choice == 1):\n",
    "   adds(num1, num2) \n",
    "elif(choice == 2):\n",
    "    subs(num1,num2)\n",
    "elif(choice == 3):\n",
    "    mults(num1, num2)    \n",
    "else:\n",
    "    divs(num1, num2)\n",
    "    \n"
   ]
  },
  {
   "cell_type": "code",
   "execution_count": 68,
   "metadata": {},
   "outputs": [
    {
     "name": "stdout",
     "output_type": "stream",
     "text": [
      "[1000, 2000, 3000, 4000, 5000]\n"
     ]
    }
   ],
   "source": [
    "# Convert Kms to meters\n",
    "# 1km = 1000m\n",
    "km_list = [1,2,3,4,5]\n",
    "\n",
    "m_list = []\n",
    "\n",
    "for i in km_list:\n",
    "    m_list.append(i*1000)\n",
    "    \n",
    "print(m_list)"
   ]
  },
  {
   "cell_type": "code",
   "execution_count": 69,
   "metadata": {},
   "outputs": [
    {
     "name": "stdout",
     "output_type": "stream",
     "text": [
      "[1000, 2000, 3000, 4000, 5000]\n"
     ]
    }
   ],
   "source": [
    "## Converting Kms to mtr using Lit comprehenssions\n",
    "m_list = [i*1000 for i in km_list]\n",
    "print(m_list)"
   ]
  },
  {
   "cell_type": "code",
   "execution_count": 73,
   "metadata": {},
   "outputs": [
    {
     "name": "stdout",
     "output_type": "stream",
     "text": [
      "78.5\n",
      "314.0\n",
      "706.5\n",
      "31.400000000000002\n",
      "62.800000000000004\n",
      "94.2\n"
     ]
    }
   ],
   "source": [
    "### Declaring a class and functions\n",
    "\n",
    "class CircleClass:\n",
    "    #class variable\n",
    "    pie = 3.14\n",
    "    \n",
    "    def __init__(self,radius):\n",
    "        self.radius = radius\n",
    "        \n",
    "    def get_area(self):\n",
    "        return self.pie * self.radius * self.radius\n",
    "    \n",
    "    def get_circumference(self):\n",
    "        return 2 * self.pie * self.radius\n",
    "## Creating objects\n",
    "\n",
    "cir1 = CircleClass(5)\n",
    "cir2 = CircleClass(10)\n",
    "cir3 = CircleClass(15)\n",
    "## Calling functions\n",
    "print(cir1.get_area())\n",
    "print(cir2.get_area())\n",
    "print(cir3.get_area())\n",
    "print(cir1.get_circumference())\n",
    "print(cir2.get_circumference())\n",
    "print(cir3.get_circumference())"
   ]
  },
  {
   "cell_type": "code",
   "execution_count": null,
   "metadata": {},
   "outputs": [],
   "source": []
  }
 ],
 "metadata": {
  "kernelspec": {
   "display_name": "Python 3",
   "language": "python",
   "name": "python3"
  },
  "language_info": {
   "codemirror_mode": {
    "name": "ipython",
    "version": 3
   },
   "file_extension": ".py",
   "mimetype": "text/x-python",
   "name": "python",
   "nbconvert_exporter": "python",
   "pygments_lexer": "ipython3",
   "version": "3.7.3"
  }
 },
 "nbformat": 4,
 "nbformat_minor": 2
}
